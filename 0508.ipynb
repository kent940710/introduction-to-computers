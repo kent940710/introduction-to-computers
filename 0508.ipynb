{
  "nbformat": 4,
  "nbformat_minor": 0,
  "metadata": {
    "colab": {
      "provenance": [],
      "authorship_tag": "ABX9TyOzgmXTJOomXkIW6uri4cA9",
      "include_colab_link": true
    },
    "kernelspec": {
      "name": "python3",
      "display_name": "Python 3"
    },
    "language_info": {
      "name": "python"
    }
  },
  "cells": [
    {
      "cell_type": "markdown",
      "metadata": {
        "id": "view-in-github",
        "colab_type": "text"
      },
      "source": [
        "<a href=\"https://colab.research.google.com/github/kent940710/introduction-to-computers/blob/main/0508.ipynb\" target=\"_parent\"><img src=\"https://colab.research.google.com/assets/colab-badge.svg\" alt=\"Open In Colab\"/></a>"
      ]
    },
    {
      "cell_type": "code",
      "execution_count": 1,
      "metadata": {
        "colab": {
          "base_uri": "https://localhost:8080/"
        },
        "id": "tq2BbB8rcskL",
        "outputId": "9ccad464-e6e6-4cdd-f289-fcab04181441"
      },
      "outputs": [
        {
          "output_type": "stream",
          "name": "stdout",
          "text": [
            "38\n",
            "體溫過高!\n"
          ]
        }
      ],
      "source": [
        "a = float(input())\n",
        "if (34 <= a):\n",
        "  if (a >= 37.5):\n",
        "    print(\"體溫過高!\")\n",
        "  elif (37.5 > a >= 37):\n",
        "    print(\"體溫略高!\")\n",
        "  elif (37 > a >=34):\n",
        "    print(\"體溫正常!\")\n",
        "else:\n",
        "  print(\"體溫異常，請重新量測\")"
      ]
    },
    {
      "cell_type": "code",
      "source": [
        "a = float(input())\n",
        "if (a > 60):\n",
        "  if (a >= 90):\n",
        "    print(\"A\")\n",
        "  elif (90 > a >= 80):\n",
        "    print(\"B\")\n",
        "  elif (80 > a >= 70):\n",
        "    print(\"C\")\n",
        "  elif (70 > a >= 60):\n",
        "    print(\"D\")\n",
        "else:\n",
        "  print(\"E\")"
      ],
      "metadata": {
        "colab": {
          "base_uri": "https://localhost:8080/"
        },
        "id": "GhYjBMAgczsF",
        "outputId": "574a8f57-9936-4091-f2a2-2cc3853715b0"
      },
      "execution_count": 2,
      "outputs": [
        {
          "output_type": "stream",
          "name": "stdout",
          "text": [
            "58\n",
            "E\n"
          ]
        }
      ]
    },
    {
      "cell_type": "code",
      "source": [
        "a = int(input())\n",
        "if (1<= a <=12):\n",
        "  if (3 <= a <= 5):\n",
        "    print(\"%a is spring\" %a)\n",
        "  elif (6 <= a <= 8):\n",
        "    print(\"%a is summer\" %a)\n",
        "  elif (9 <= a <= 11):\n",
        "    print(\"%a is autumn\" %a)\n",
        "  else:\n",
        "    print(\"%a is winter\" %a)\n",
        "else:\n",
        "  print(\"不在月分內\")"
      ],
      "metadata": {
        "colab": {
          "base_uri": "https://localhost:8080/"
        },
        "id": "EuNvz6ypc1jz",
        "outputId": "84a73747-d8cd-4c91-96f8-d65dfcc663c5"
      },
      "execution_count": 3,
      "outputs": [
        {
          "output_type": "stream",
          "name": "stdout",
          "text": [
            "12\n",
            "12 is winter\n"
          ]
        }
      ]
    }
  ]
}