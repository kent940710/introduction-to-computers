{
  "nbformat": 4,
  "nbformat_minor": 0,
  "metadata": {
    "colab": {
      "provenance": [],
      "authorship_tag": "ABX9TyNF9D5RZQKeN7tcT6ohA3wE",
      "include_colab_link": true
    },
    "kernelspec": {
      "name": "python3",
      "display_name": "Python 3"
    },
    "language_info": {
      "name": "python"
    }
  },
  "cells": [
    {
      "cell_type": "markdown",
      "metadata": {
        "id": "view-in-github",
        "colab_type": "text"
      },
      "source": [
        "<a href=\"https://colab.research.google.com/github/kent940710/introduction-to-computers/blob/main/0320%E4%BD%9C%E6%A5%AD.ipynb\" target=\"_parent\"><img src=\"https://colab.research.google.com/assets/colab-badge.svg\" alt=\"Open In Colab\"/></a>"
      ]
    },
    {
      "cell_type": "code",
      "execution_count": 2,
      "metadata": {
        "colab": {
          "base_uri": "https://localhost:8080/"
        },
        "id": "VL8Yu5EsSlng",
        "outputId": "0f9bc9ed-8af5-4526-ce3d-351b3cb7f265"
      },
      "outputs": [
        {
          "output_type": "stream",
          "name": "stdout",
          "text": [
            "請輸入國文成績(整數):50\n",
            "請輸入英文成績(整數):60\n",
            "請輸入數學成績(整數):70\n",
            "您的成績總分為: 180 \n"
          ]
        }
      ],
      "source": [
        "chinese=int(input('請輸入國文成績(整數):'))\n",
        "english=int(input('請輸入英文成績(整數):'))\n",
        "math=int(input('請輸入數學成績(整數):'))\n",
        "total=chinese+english+math\n",
        "print('您的成績總分為: %3d '% total)"
      ]
    },
    {
      "cell_type": "code",
      "source": [
        "f=(input('請輸入梯形上底長度:'))\n",
        "g=(input('請輸入梯形下底長度:'))\n",
        "h=(input('請輸入梯形的高度:'))\n",
        "上底=int(f)\n",
        "下底=int(g)\n",
        "高=int(h)\n",
        "面積 = (上底+下底) * 高 / 2\n",
        "print(\"上底長度:\",上底,\"下底長度:\",下底,\"高度:\",高,\"梯形面積:\",面積)"
      ],
      "metadata": {
        "colab": {
          "base_uri": "https://localhost:8080/"
        },
        "id": "IgundVgNSvwJ",
        "outputId": "dbe96124-5504-4ab2-d1ed-e047877c04a7"
      },
      "execution_count": 19,
      "outputs": [
        {
          "output_type": "stream",
          "name": "stdout",
          "text": [
            "請輸入梯形上底長度:3\n",
            "請輸入梯形下底長度:4\n",
            "請輸入梯形的高度:3\n",
            "上底長度: 3 下底長度: 4 高度: 3 梯形面積: 10.5\n"
          ]
        }
      ]
    },
    {
      "cell_type": "code",
      "source": [
        "身高=(int(input('請輸入您的身高cm:')))\n",
        "體重=(int(input('請輸入您的體重kg:')))\n",
        "身高_公尺= 身高/100\n",
        "BMI=(體重 / (身高_公尺) **2)\n",
        "print(\"身高:\",身高,\"公分\",\",\",\"體重\",體重,\"公斤\",\",\",\"BMI值為\",BMI)"
      ],
      "metadata": {
        "colab": {
          "base_uri": "https://localhost:8080/"
        },
        "id": "rDoy-tTLTPH_",
        "outputId": "ebc6cdb9-2180-4221-a78b-71500ecb7d6b"
      },
      "execution_count": 20,
      "outputs": [
        {
          "output_type": "stream",
          "name": "stdout",
          "text": [
            "請輸入您的身高cm:180\n",
            "請輸入您的體重kg:80\n",
            "身高: 180 公分 , 體重 80 公斤 , BMI值為 24.691358024691358\n"
          ]
        }
      ]
    }
  ]
}